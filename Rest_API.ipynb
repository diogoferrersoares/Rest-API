{
 "cells": [
  {
   "cell_type": "markdown",
   "id": "9ed4c0b8-33a4-4d8d-ac35-20a0d5457e02",
   "metadata": {
    "tags": []
   },
   "source": [
    "# API\n",
    "\n",
    "**O que é uma API?**\n",
    "\n",
    "- A expressão Application Programming Interface, ou, em português, Interface de Programação de Aplicativos, originou o acrônimo API. \n",
    "\n",
    "- As APIs permitem que o usuário final utilize um aplicativo, software ou até uma simples planilha, consultando, alterando e armazenando dados de diversos sistemas, sem que o usuário precise acessá-los diretamente.\n",
    "\n",
    "- O intuito de uma API é trocar dados entre sistemas diferentes, na maior parte das vez essas trocas de dados tem como objetivo automatizar processos manuais e/ou permitir a criação de novas funcionalidades.\n",
    "\n",
    "\n",
    "**Qual tipo de problema que vamos resolver?**\n",
    "\n",
    "R - Fornecer os dados de um dataset para serem acessíveis a qualquer momento por meio das APIs web podendo ler e transferir entre sistemas baseados na web ou arquitetura cliente-servidor."
   ]
  },
  {
   "cell_type": "markdown",
   "id": "1676ca10-d2d2-4db9-bddc-ee49fef6c83c",
   "metadata": {},
   "source": [
    "# Configurando o ambiente\n",
    "\n",
    "Aqui temos todas as bibliotecas que utilizaremos neste notebook."
   ]
  },
  {
   "cell_type": "code",
   "execution_count": 1,
   "id": "b32da7ae-5eae-45bf-8d55-d23105b11960",
   "metadata": {},
   "outputs": [],
   "source": [
    "from flask import Flask\n",
    "import pandas as pd\n",
    "import requests"
   ]
  },
  {
   "cell_type": "markdown",
   "id": "42ad7d20-448d-4828-be2a-9469e1bae281",
   "metadata": {},
   "source": [
    "# Carregando os dados\n",
    "\n",
    "Pegaremos os dados diretamente do repositório no github assim eles podem ser atualizados e, com isso estaremos preparados para identificar novas aplicabilidades aos dados."
   ]
  },
  {
   "cell_type": "code",
   "execution_count": 2,
   "id": "0752748e-3586-4ea8-b936-25f3e4550f05",
   "metadata": {},
   "outputs": [
    {
     "data": {
      "text/html": [
       "<div>\n",
       "<style scoped>\n",
       "    .dataframe tbody tr th:only-of-type {\n",
       "        vertical-align: middle;\n",
       "    }\n",
       "\n",
       "    .dataframe tbody tr th {\n",
       "        vertical-align: top;\n",
       "    }\n",
       "\n",
       "    .dataframe thead th {\n",
       "        text-align: right;\n",
       "    }\n",
       "</style>\n",
       "<table border=\"1\" class=\"dataframe\">\n",
       "  <thead>\n",
       "    <tr style=\"text-align: right;\">\n",
       "      <th></th>\n",
       "      <th>Código Venda</th>\n",
       "      <th>Data</th>\n",
       "      <th>ID Loja</th>\n",
       "      <th>Produto</th>\n",
       "      <th>Quantidade</th>\n",
       "      <th>Valor Unitário</th>\n",
       "      <th>Valor Final</th>\n",
       "    </tr>\n",
       "  </thead>\n",
       "  <tbody>\n",
       "    <tr>\n",
       "      <th>0</th>\n",
       "      <td>65014</td>\n",
       "      <td>2022-04-01</td>\n",
       "      <td>Shopping 1</td>\n",
       "      <td>Camisa</td>\n",
       "      <td>1</td>\n",
       "      <td>30</td>\n",
       "      <td>30</td>\n",
       "    </tr>\n",
       "    <tr>\n",
       "      <th>1</th>\n",
       "      <td>65037</td>\n",
       "      <td>2022-02-01</td>\n",
       "      <td>Shopping 2</td>\n",
       "      <td>Casaco</td>\n",
       "      <td>5</td>\n",
       "      <td>70</td>\n",
       "      <td>350</td>\n",
       "    </tr>\n",
       "    <tr>\n",
       "      <th>2</th>\n",
       "      <td>65060</td>\n",
       "      <td>2022-05-05</td>\n",
       "      <td>Shopping 3</td>\n",
       "      <td>Gorro</td>\n",
       "      <td>8</td>\n",
       "      <td>17</td>\n",
       "      <td>136</td>\n",
       "    </tr>\n",
       "    <tr>\n",
       "      <th>3</th>\n",
       "      <td>65083</td>\n",
       "      <td>2022-04-01</td>\n",
       "      <td>Shopping 4</td>\n",
       "      <td>Cueca</td>\n",
       "      <td>1</td>\n",
       "      <td>5</td>\n",
       "      <td>5</td>\n",
       "    </tr>\n",
       "    <tr>\n",
       "      <th>4</th>\n",
       "      <td>65106</td>\n",
       "      <td>2022-02-01</td>\n",
       "      <td>Shopping 5</td>\n",
       "      <td>Sunga</td>\n",
       "      <td>1</td>\n",
       "      <td>8</td>\n",
       "      <td>8</td>\n",
       "    </tr>\n",
       "    <tr>\n",
       "      <th>5</th>\n",
       "      <td>65129</td>\n",
       "      <td>2022-05-05</td>\n",
       "      <td>Shopping 6</td>\n",
       "      <td>Polo</td>\n",
       "      <td>5</td>\n",
       "      <td>30</td>\n",
       "      <td>150</td>\n",
       "    </tr>\n",
       "    <tr>\n",
       "      <th>6</th>\n",
       "      <td>65152</td>\n",
       "      <td>2022-04-01</td>\n",
       "      <td>Shopping 7</td>\n",
       "      <td>Tênis</td>\n",
       "      <td>6</td>\n",
       "      <td>150</td>\n",
       "      <td>900</td>\n",
       "    </tr>\n",
       "    <tr>\n",
       "      <th>7</th>\n",
       "      <td>65175</td>\n",
       "      <td>2022-02-01</td>\n",
       "      <td>Shopping 8</td>\n",
       "      <td>Pulseira</td>\n",
       "      <td>1</td>\n",
       "      <td>1</td>\n",
       "      <td>1</td>\n",
       "    </tr>\n",
       "    <tr>\n",
       "      <th>8</th>\n",
       "      <td>65198</td>\n",
       "      <td>2022-05-05</td>\n",
       "      <td>Shopping 9</td>\n",
       "      <td>Camisera</td>\n",
       "      <td>5</td>\n",
       "      <td>28</td>\n",
       "      <td>140</td>\n",
       "    </tr>\n",
       "    <tr>\n",
       "      <th>9</th>\n",
       "      <td>65221</td>\n",
       "      <td>2022-04-01</td>\n",
       "      <td>Shopping 10</td>\n",
       "      <td>Calça</td>\n",
       "      <td>6</td>\n",
       "      <td>50</td>\n",
       "      <td>300</td>\n",
       "    </tr>\n",
       "    <tr>\n",
       "      <th>10</th>\n",
       "      <td>65244</td>\n",
       "      <td>2022-02-01</td>\n",
       "      <td>Shopping 11</td>\n",
       "      <td>Calça Xadrez</td>\n",
       "      <td>1</td>\n",
       "      <td>52</td>\n",
       "      <td>52</td>\n",
       "    </tr>\n",
       "    <tr>\n",
       "      <th>11</th>\n",
       "      <td>65267</td>\n",
       "      <td>2022-05-05</td>\n",
       "      <td>Shopping 12</td>\n",
       "      <td>Short</td>\n",
       "      <td>5</td>\n",
       "      <td>40</td>\n",
       "      <td>200</td>\n",
       "    </tr>\n",
       "    <tr>\n",
       "      <th>12</th>\n",
       "      <td>65290</td>\n",
       "      <td>2022-04-01</td>\n",
       "      <td>Shopping 13</td>\n",
       "      <td>Short Xadrez</td>\n",
       "      <td>6</td>\n",
       "      <td>42</td>\n",
       "      <td>252</td>\n",
       "    </tr>\n",
       "    <tr>\n",
       "      <th>13</th>\n",
       "      <td>65313</td>\n",
       "      <td>2022-02-01</td>\n",
       "      <td>Shopping 14</td>\n",
       "      <td>Camisa Lisa</td>\n",
       "      <td>1</td>\n",
       "      <td>29</td>\n",
       "      <td>29</td>\n",
       "    </tr>\n",
       "    <tr>\n",
       "      <th>14</th>\n",
       "      <td>65336</td>\n",
       "      <td>2022-05-05</td>\n",
       "      <td>Shopping 15</td>\n",
       "      <td>Camisa Xadrez</td>\n",
       "      <td>5</td>\n",
       "      <td>29</td>\n",
       "      <td>145</td>\n",
       "    </tr>\n",
       "    <tr>\n",
       "      <th>15</th>\n",
       "      <td>65359</td>\n",
       "      <td>2022-04-01</td>\n",
       "      <td>Shopping 16</td>\n",
       "      <td>sandalha</td>\n",
       "      <td>6</td>\n",
       "      <td>5</td>\n",
       "      <td>30</td>\n",
       "    </tr>\n",
       "  </tbody>\n",
       "</table>\n",
       "</div>"
      ],
      "text/plain": [
       "    Código Venda       Data      ID Loja        Produto  Quantidade  \\\n",
       "0          65014 2022-04-01   Shopping 1         Camisa           1   \n",
       "1          65037 2022-02-01   Shopping 2         Casaco           5   \n",
       "2          65060 2022-05-05   Shopping 3          Gorro           8   \n",
       "3          65083 2022-04-01   Shopping 4          Cueca           1   \n",
       "4          65106 2022-02-01   Shopping 5          Sunga           1   \n",
       "5          65129 2022-05-05   Shopping 6           Polo           5   \n",
       "6          65152 2022-04-01   Shopping 7          Tênis           6   \n",
       "7          65175 2022-02-01   Shopping 8       Pulseira           1   \n",
       "8          65198 2022-05-05   Shopping 9       Camisera           5   \n",
       "9          65221 2022-04-01  Shopping 10          Calça           6   \n",
       "10         65244 2022-02-01  Shopping 11   Calça Xadrez           1   \n",
       "11         65267 2022-05-05  Shopping 12          Short           5   \n",
       "12         65290 2022-04-01  Shopping 13   Short Xadrez           6   \n",
       "13         65313 2022-02-01  Shopping 14    Camisa Lisa           1   \n",
       "14         65336 2022-05-05  Shopping 15  Camisa Xadrez           5   \n",
       "15         65359 2022-04-01  Shopping 16       sandalha           6   \n",
       "\n",
       "    Valor Unitário  Valor Final  \n",
       "0               30           30  \n",
       "1               70          350  \n",
       "2               17          136  \n",
       "3                5            5  \n",
       "4                8            8  \n",
       "5               30          150  \n",
       "6              150          900  \n",
       "7                1            1  \n",
       "8               28          140  \n",
       "9               50          300  \n",
       "10              52           52  \n",
       "11              40          200  \n",
       "12              42          252  \n",
       "13              29           29  \n",
       "14              29          145  \n",
       "15               5           30  "
      ]
     },
     "metadata": {},
     "output_type": "display_data"
    }
   ],
   "source": [
    "tabela = pd.read_excel(\"Vendas - Dez.xlsx\")\n",
    "\n",
    "display(tabela)"
   ]
  },
  {
   "cell_type": "markdown",
   "id": "4a1fb97f-0d4e-4ae7-9c2f-f1a798ec4beb",
   "metadata": {},
   "source": [
    "# Configurando a API\n",
    "\n",
    "A configuração de um método de API define o método e descreve seus comportamentos. Para configurar um método, você deve especificar um recurso, incluindo a raiz (\"/\")."
   ]
  },
  {
   "cell_type": "code",
   "execution_count": null,
   "id": "abc728fc-cab2-4703-bb5d-1916c150bef8",
   "metadata": {},
   "outputs": [],
   "source": [
    "# Cria o site \n",
    "app = Flask(__name__)\n",
    "\n",
    "@app.route(\"/\")\n",
    "def hello_world():\n",
    "    return \"Informações da API\"\n",
    "\n",
    "# Informação do faturamento total\n",
    "\n",
    "@app.route(\"/faturamento\")\n",
    "def faturamento():\n",
    "    faturamento = float(tabela[\"Valor Final\"].sum())\n",
    "    return {\"faturamento\": faturamento}\n",
    "\n",
    "# Informação das vendas\n",
    "\n",
    "@app.route(\"/vendas\")\n",
    "def vendas():\n",
    "    dic_vendas = tabela.to_dict()\n",
    "    return dic_vendas\n",
    "\n",
    "# Informação do produto\n",
    "\n",
    "@app.route(\"/vendas/<produto>\")\n",
    "def vendasprodutos(produto):\n",
    "    tabela_2 = tabela[[\"Produto\",\"Valor Final\"]]\n",
    "    tabela_2 = tabela_2.set_index('Produto')\n",
    "    if produto in tabela_2.index:\n",
    "        vendas_produto = tabela_2.loc[produto]\n",
    "        dic_vendas = vendas_produto.to_dict()\n",
    "        return {produto: dic_vendas}\n",
    "    else:\n",
    "        return {produto: \"Inexistente\"}\n"
   ]
  },
  {
   "cell_type": "code",
   "execution_count": null,
   "id": "7275ffb8-d7dc-4f38-8c7c-ac44dbfc351d",
   "metadata": {},
   "outputs": [
    {
     "name": "stdout",
     "output_type": "stream",
     "text": [
      " * Serving Flask app \"__main__\" (lazy loading)\n",
      " * Environment: production\n",
      "\u001b[31m   WARNING: This is a development server. Do not use it in a production deployment.\u001b[0m\n",
      "\u001b[2m   Use a production WSGI server instead.\u001b[0m\n",
      " * Debug mode: off\n"
     ]
    },
    {
     "name": "stderr",
     "output_type": "stream",
     "text": [
      " * Running on http://127.0.0.1:5000/ (Press CTRL+C to quit)\n"
     ]
    }
   ],
   "source": [
    "# Colocar o site no ar\n",
    "\n",
    "app.run()"
   ]
  },
  {
   "cell_type": "markdown",
   "id": "8aceef3a-be61-42b7-a3d8-c1266445ee91",
   "metadata": {},
   "source": [
    "# Consumindo a API 📈\n",
    "\n",
    "As informações do código foram hospedadas no portal do https://replit.com/ "
   ]
  },
  {
   "cell_type": "markdown",
   "id": "b8a48337-5213-4168-8311-66f86ab969f8",
   "metadata": {},
   "source": [
    "- Consumindo informações do Faturamento do dataset"
   ]
  },
  {
   "cell_type": "code",
   "execution_count": 5,
   "id": "e6341363-23d4-4fe4-b1fe-e54e73495f12",
   "metadata": {},
   "outputs": [],
   "source": [
    "link1 = \"https://Python.diogoferrer.repl.co/faturamento\"\n",
    "\n",
    "requisicao1 = requests.get(link1)"
   ]
  },
  {
   "cell_type": "code",
   "execution_count": 6,
   "id": "f5ddee4b-d3dc-4394-9510-3bf65c92b9be",
   "metadata": {},
   "outputs": [
    {
     "name": "stdout",
     "output_type": "stream",
     "text": [
      "{'faturamento': 2728.0}\n"
     ]
    }
   ],
   "source": [
    "print(requisicao1.json())"
   ]
  },
  {
   "cell_type": "markdown",
   "id": "3b30726e-836e-489a-adca-504e73447614",
   "metadata": {},
   "source": [
    "- Consumindo informações das Vendas do dataset"
   ]
  },
  {
   "cell_type": "code",
   "execution_count": 14,
   "id": "215e24d5-0551-4c1b-89fd-2cda140aada2",
   "metadata": {},
   "outputs": [],
   "source": [
    "link2 = \"https://Python.diogoferrer.repl.co/vendas\"\n",
    "\n",
    "requisicao2 = requests.get(link2)"
   ]
  },
  {
   "cell_type": "code",
   "execution_count": 8,
   "id": "00d5396c-8d1a-4238-8485-158996a74bb3",
   "metadata": {},
   "outputs": [
    {
     "name": "stdout",
     "output_type": "stream",
     "text": [
      "{'Código Venda': {'0': 65014, '1': 65037, '2': 65060, '3': 65083, '4': 65106, '5': 65129, '6': 65152, '7': 65175, '8': 65198, '9': 65221, '10': 65244, '11': 65267, '12': 65290, '13': 65313, '14': 65336, '15': 65359}, 'Data': {'0': 'Fri, 01 Apr 2022 00:00:00 GMT', '1': 'Tue, 01 Feb 2022 00:00:00 GMT', '2': 'Thu, 05 May 2022 00:00:00 GMT', '3': 'Fri, 01 Apr 2022 00:00:00 GMT', '4': 'Tue, 01 Feb 2022 00:00:00 GMT', '5': 'Thu, 05 May 2022 00:00:00 GMT', '6': 'Fri, 01 Apr 2022 00:00:00 GMT', '7': 'Tue, 01 Feb 2022 00:00:00 GMT', '8': 'Thu, 05 May 2022 00:00:00 GMT', '9': 'Fri, 01 Apr 2022 00:00:00 GMT', '10': 'Tue, 01 Feb 2022 00:00:00 GMT', '11': 'Thu, 05 May 2022 00:00:00 GMT', '12': 'Fri, 01 Apr 2022 00:00:00 GMT', '13': 'Tue, 01 Feb 2022 00:00:00 GMT', '14': 'Thu, 05 May 2022 00:00:00 GMT', '15': 'Fri, 01 Apr 2022 00:00:00 GMT'}, 'ID Loja': {'0': 'Shopping 1', '1': 'Shopping 2', '2': 'Shopping 3', '3': 'Shopping 4', '4': 'Shopping 5', '5': 'Shopping 6', '6': 'Shopping 7', '7': 'Shopping 8', '8': 'Shopping 9', '9': 'Shopping 10', '10': 'Shopping 11', '11': 'Shopping 12', '12': 'Shopping 13', '13': 'Shopping 14', '14': 'Shopping 15', '15': 'Shopping 16'}, 'Produto': {'0': 'Camisa', '1': 'Casaco', '2': 'Gorro', '3': 'Cueca', '4': 'Sunga', '5': 'Polo', '6': 'Tênis', '7': 'Pulseira', '8': 'Camisera', '9': 'Calça', '10': 'Calça Xadrez', '11': 'Short', '12': 'Short Xadrez', '13': 'Camisa Lisa', '14': 'Camisa Xadrez', '15': 'sandalha'}, 'Quantidade': {'0': 1, '1': 5, '2': 8, '3': 1, '4': 1, '5': 5, '6': 6, '7': 1, '8': 5, '9': 6, '10': 1, '11': 5, '12': 6, '13': 1, '14': 5, '15': 6}, 'Valor Final': {'0': 30, '1': 350, '2': 136, '3': 5, '4': 8, '5': 150, '6': 900, '7': 1, '8': 140, '9': 300, '10': 52, '11': 200, '12': 252, '13': 29, '14': 145, '15': 30}, 'Valor Unitário': {'0': 30, '1': 70, '2': 17, '3': 5, '4': 8, '5': 30, '6': 150, '7': 1, '8': 28, '9': 50, '10': 52, '11': 40, '12': 42, '13': 29, '14': 29, '15': 5}}\n"
     ]
    }
   ],
   "source": [
    "print(requisicao2.json())"
   ]
  },
  {
   "cell_type": "markdown",
   "id": "c234669e-b9ec-4d8f-9fd8-b1a44cfc5d67",
   "metadata": {},
   "source": [
    "- Consumindo a informação do valor faturado por Produto"
   ]
  },
  {
   "cell_type": "code",
   "execution_count": 12,
   "id": "8a6443fe-3dc0-49d6-9f9e-363689556617",
   "metadata": {},
   "outputs": [],
   "source": [
    "\n",
    "link3 = \"https://Python.diogoferrer.repl.co/vendas/Luva\"\n",
    "\n",
    "requisicao3 = requests.get(link3)\n"
   ]
  },
  {
   "cell_type": "code",
   "execution_count": 13,
   "id": "f383082d-d04e-4e9a-a6e5-c205cf3bf58d",
   "metadata": {},
   "outputs": [
    {
     "name": "stdout",
     "output_type": "stream",
     "text": [
      "{'Luva': 'Inexistente'}\n"
     ]
    }
   ],
   "source": [
    "print(requisicao3.json())"
   ]
  }
 ],
 "metadata": {
  "kernelspec": {
   "display_name": "Python 3 (ipykernel)",
   "language": "python",
   "name": "python3"
  },
  "language_info": {
   "codemirror_mode": {
    "name": "ipython",
    "version": 3
   },
   "file_extension": ".py",
   "mimetype": "text/x-python",
   "name": "python",
   "nbconvert_exporter": "python",
   "pygments_lexer": "ipython3",
   "version": "3.9.7"
  }
 },
 "nbformat": 4,
 "nbformat_minor": 5
}
